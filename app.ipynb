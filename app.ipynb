{
 "cells": [
  {
   "cell_type": "code",
   "execution_count": null,
   "id": "108063dc",
   "metadata": {
    "gradient": {
     "editing": false,
     "id": "108063dc",
     "kernelId": "888edbd5-b0ce-4165-9c3c-c6d077792cb4"
    }
   },
   "outputs": [],
   "source": [
    "!pip install datasets ipywidgets"
   ]
  },
  {
   "cell_type": "code",
   "execution_count": null,
   "id": "d0d46695",
   "metadata": {
    "gradient": {
     "editing": false,
     "id": "d0d46695",
     "kernelId": "888edbd5-b0ce-4165-9c3c-c6d077792cb4"
    }
   },
   "outputs": [],
   "source": [
    "import urllib.request\n",
    "import gc\n",
    "from pathlib import Path\n",
    "import ipywidgets as widgets\n",
    "\n",
    "import transformers\n",
    "from transformers import AutoTokenizer, TFAutoModelForCausalLM\n",
    "from datasets import load_dataset\n",
    "import tensorflow as tf\n",
    "\n",
    "checkpoint = 'distilgpt2'\n",
    "saved_checkpoint = 'mikegarts/mishka-distgpt2'"
   ]
  },
  {
   "cell_type": "markdown",
   "id": "e3291f8a",
   "metadata": {
    "gradient": {
     "editing": false,
     "id": "e3291f8a",
     "kernelId": "888edbd5-b0ce-4165-9c3c-c6d077792cb4"
    }
   },
   "source": [
    "# An improved version of remarqify, this time based on the self attention mechanism (distilgpt2)\n",
    "## A neural network trained to complete a few words of an input as a paragraph from a book by Erich Maria Remarque"
   ]
  },
  {
   "cell_type": "code",
   "execution_count": null,
   "id": "4572d793",
   "metadata": {
    "gradient": {
     "editing": false,
     "id": "4572d793",
     "kernelId": "888edbd5-b0ce-4165-9c3c-c6d077792cb4"
    },
    "scrolled": true
   },
   "outputs": [],
   "source": [
    "MIN_WORDS = 60\n",
    "path = Path()\n",
    "btn_generate = widgets.Button(description='Generate paragraph')\n",
    "inp_text = widgets.Text(placeholder='I was drinking because')\n",
    "progress = widgets.IntProgress(\n",
    "    value=0,\n",
    "    min=0,\n",
    "    max=MIN_WORDS * 2,\n",
    "    description='Generating: ',\n",
    "    bar_style='info', # 'success', 'info', 'warning', 'danger' or ''\n",
    "    style={'bar_color': 'maroon'},\n",
    "    orientation='horizontal'\n",
    ")\n",
    "\n",
    "result = widgets.Textarea(rows=13, disabled=True)\n",
    "\n",
    "def get_model():\n",
    "    result.value = 'Downloading model...'\n",
    "    model = TFAutoModelForCausalLM.from_pretrained(saved_checkpoint)\n",
    "    tokenizer = AutoTokenizer.from_pretrained(checkpoint)\n",
    "    result.value = ''\n",
    "    return model, tokenizer\n",
    "\n",
    "def generate(prompt):\n",
    "    model, tokenizer = get_model()\n",
    "    \n",
    "    input_context = prompt\n",
    "    input_ids = tokenizer.encode(input_context, return_tensors=\"tf\")\n",
    "\n",
    "    outputs = model.generate(\n",
    "        input_ids=input_ids, \n",
    "        max_length=MIN_WORDS, \n",
    "        temperature=0.7, \n",
    "        num_return_sequences=1, \n",
    "        do_sample=True\n",
    "    )\n",
    "    \n",
    "    return tokenizer.decode(outputs[0], skip_special_tokens=True).rsplit('.', 1)[0] + '.'\n",
    "\n",
    "def on_click_generate(change):\n",
    "    progress.value = 1\n",
    "    btn_generate.disabled = True\n",
    "    inp_text.disabled = True\n",
    "    result.value = 'Generating ... please wait'\n",
    "    preds = generate(inp_text.value)\n",
    "    result.value = preds\n",
    "    btn_generate.disabled = False\n",
    "    inp_text.disabled = False\n",
    "    progress.value = 0\n",
    "    inp_text.value = ''\n",
    "\n",
    "btn_generate.on_click(on_click_generate)\n",
    "display(widgets.VBox([widgets.Label('Enter a few words to start the paragraph'),inp_text, btn_generate, progress, result]))\n"
   ]
  },
  {
   "cell_type": "code",
   "execution_count": null,
   "id": "f8da9828",
   "metadata": {
    "gradient": {
     "editing": false,
     "id": "f8da9828",
     "kernelId": "888edbd5-b0ce-4165-9c3c-c6d077792cb4"
    }
   },
   "outputs": [],
   "source": []
  },
  {
   "cell_type": "code",
   "execution_count": null,
   "id": "3d499149-50d2-4cd6-a496-23d7373fedef",
   "metadata": {},
   "outputs": [],
   "source": []
  }
 ],
 "metadata": {
  "kernelspec": {
   "display_name": "Python 3 (ipykernel)",
   "language": "python",
   "name": "python3"
  },
  "language_info": {
   "codemirror_mode": {
    "name": "ipython",
    "version": 3
   },
   "file_extension": ".py",
   "mimetype": "text/x-python",
   "name": "python",
   "nbconvert_exporter": "python",
   "pygments_lexer": "ipython3",
   "version": "3.8.10"
  }
 },
 "nbformat": 4,
 "nbformat_minor": 5
}
